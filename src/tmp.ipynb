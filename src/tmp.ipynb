{
 "cells": [
  {
   "cell_type": "code",
   "execution_count": null,
   "metadata": {},
   "outputs": [],
   "source": [
    "from user.user import User\n",
    "from config.settings import id\n",
    "from config.settings import pwd\n",
    "from bs4 import BeautifulSoup\n",
    "u = User(id,pwd)\n",
    "r = u.get('my/index.php?mynumber=-2')\n",
    "assert r.status_code == 200\n",
    "\n",
    "soup = BeautifulSoup(r.text, 'html.parser')\n",
    "course_dict = dict()\n",
    "\n",
    "all_course = soup.find('div',class_ ='course_list').find_all('div',class_ ='course_title')\n",
    "\n",
    "for c in all_course:\n",
    "\tcourse_box = c.find('h2',class_ = 'title').find('a')\n",
    "\tc_link = course_box.get('href')\n",
    "\tc_title = course_box.get('title')\n",
    "#             print(c_link)\n",
    "#             print(c_title)\n",
    "\tcourse_dict[c_title] = c_link\n",
    "# print(course_dict)\n",
    "print(len(course_dict))"
   ]
  },
  {
   "cell_type": "code",
   "execution_count": null,
   "metadata": {},
   "outputs": [],
   "source": [
    "def parse_ass(link):\n",
    "\tr = u.get_absolute(link)\n",
    "\tassert r.status_code == 200\n",
    "\ts = BeautifulSoup(r.text,'html.parser')\n",
    "\tprint('parsing:',link)\n",
    "\tx = s.find('div',{'role':'main'})\n",
    "\tfrom model.factory import get_element\n",
    "\tprint(x.prettify())\n",
    "\tt = get_element(x)\n",
    "\tprint(t.md())"
   ]
  },
  {
   "cell_type": "code",
   "execution_count": null,
   "metadata": {},
   "outputs": [],
   "source": [
    "keylist = list(course_dict.keys())\n",
    "print(\"total course: \",len(course_dict))\n",
    "\n",
    "for i in range(0,len(course_dict)):\n",
    "\tkey = keylist[i]\n",
    "\tvalue = course_dict[key]\n",
    "\tprint(\"i= \",i,\" value:\",value)\n",
    "\tu = User(id,pwd)\n",
    "\tr = u.get_absolute(value)\n",
    "\t# print(r)\n",
    "\tassert r.status_code == 200\n",
    "\tb = BeautifulSoup(r.text, 'html.parser')\n",
    "\tx = b.find('div',class_ = 'course-content')\n",
    "\n",
    "\tfrom model.header import HeaderElement\n",
    "\tfrom model.factory import get_element\n",
    "\n",
    "\tt = get_element(x)\n",
    "\tfrom model.a import AElement\n",
    "\tlinkElems = AElement.get_instances()\n",
    "\tfor a in linkElems:\n",
    "\t\thref = a.href.strip()\n",
    "\t\ttitle  = a.title().strip()\n",
    "\t\tfrom mod.type import get_type,Type\n",
    "\t\ttyp = get_type(href)\n",
    "\t\tif typ == Type.ASSIGN:\n",
    "\t\t\t# print(title)\n",
    "\t\t\t# print(href)\n",
    "\t\t\tparse_ass(href)\n",
    "\t"
   ]
  },
  {
   "cell_type": "code",
   "execution_count": null,
   "metadata": {},
   "outputs": [],
   "source": [
    "\n",
    "x = b.find('div',class_ = 'course-content')\n",
    "\n",
    "from model.header import HeaderElement\n",
    "from model.factory import get_element\n",
    "print(x.prettify())\n",
    "t = get_element(x)\n",
    "# print(t.md())\n",
    "from model.a import AElement\n",
    "z = AElement.get_instances()\n",
    "z = list(z)\n",
    "print(len(z))\n",
    "for i in z:\n",
    "\tprint(i.md())"
   ]
  }
 ],
 "metadata": {
  "kernelspec": {
   "display_name": "Python 3",
   "language": "python",
   "name": "python3"
  },
  "language_info": {
   "codemirror_mode": {
    "name": "ipython",
    "version": 3
   },
   "file_extension": ".py",
   "mimetype": "text/x-python",
   "name": "python",
   "nbconvert_exporter": "python",
   "pygments_lexer": "ipython3",
   "version": "3.10.6"
  },
  "orig_nbformat": 4
 },
 "nbformat": 4,
 "nbformat_minor": 2
}
